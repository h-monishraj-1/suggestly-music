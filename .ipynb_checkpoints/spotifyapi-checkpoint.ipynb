{
 "cells": [
  {
   "cell_type": "code",
   "execution_count": 1,
   "id": "1e33c299-05ea-4567-b5ec-0d5c12283e2b",
   "metadata": {},
   "outputs": [],
   "source": [
    "import pandas as pd"
   ]
  },
  {
   "cell_type": "code",
   "execution_count": 2,
   "id": "c0d98269-9be5-404d-a0e5-55ef17b915a0",
   "metadata": {},
   "outputs": [
    {
     "data": {
      "text/html": [
       "<div>\n",
       "<style scoped>\n",
       "    .dataframe tbody tr th:only-of-type {\n",
       "        vertical-align: middle;\n",
       "    }\n",
       "\n",
       "    .dataframe tbody tr th {\n",
       "        vertical-align: top;\n",
       "    }\n",
       "\n",
       "    .dataframe thead th {\n",
       "        text-align: right;\n",
       "    }\n",
       "</style>\n",
       "<table border=\"1\" class=\"dataframe\">\n",
       "  <thead>\n",
       "    <tr style=\"text-align: right;\">\n",
       "      <th></th>\n",
       "      <th>Unnamed: 0</th>\n",
       "      <th>track_id</th>\n",
       "      <th>artists</th>\n",
       "      <th>album_name</th>\n",
       "      <th>track_name</th>\n",
       "      <th>track_genre</th>\n",
       "    </tr>\n",
       "  </thead>\n",
       "  <tbody>\n",
       "    <tr>\n",
       "      <th>0</th>\n",
       "      <td>2</td>\n",
       "      <td>1iJBSr7s7jYXzM8EGcbK5b</td>\n",
       "      <td>Ingrid Michaelson;ZAYN</td>\n",
       "      <td>To Begin Again</td>\n",
       "      <td>To Begin Again</td>\n",
       "      <td>acoustic</td>\n",
       "    </tr>\n",
       "    <tr>\n",
       "      <th>1</th>\n",
       "      <td>33</td>\n",
       "      <td>3H36x7buZdQD4687VmFrwY</td>\n",
       "      <td>Brandi Carlile;Sam Smith</td>\n",
       "      <td>Human - Best Adult Pop Tunes</td>\n",
       "      <td>Party of One</td>\n",
       "      <td>acoustic</td>\n",
       "    </tr>\n",
       "    <tr>\n",
       "      <th>2</th>\n",
       "      <td>242</td>\n",
       "      <td>03VNgdCL9t8aPyvwZecglI</td>\n",
       "      <td>Jason Mraz;Meghan Trainor</td>\n",
       "      <td>Know.</td>\n",
       "      <td>More Than Friends (feat. Meghan Trainor)</td>\n",
       "      <td>acoustic</td>\n",
       "    </tr>\n",
       "    <tr>\n",
       "      <th>3</th>\n",
       "      <td>868</td>\n",
       "      <td>25fcj6d2W1l8DQL11Czdzb</td>\n",
       "      <td>Brandi Carlile;Sam Smith</td>\n",
       "      <td>Party of One (feat. Sam Smith)</td>\n",
       "      <td>Party of One (feat. Sam Smith)</td>\n",
       "      <td>acoustic</td>\n",
       "    </tr>\n",
       "    <tr>\n",
       "      <th>4</th>\n",
       "      <td>3476</td>\n",
       "      <td>0raOzVFA5sMpRDgMZ0ZTJc</td>\n",
       "      <td>Rico Nasty;Marshmello</td>\n",
       "      <td>Internet Sensations</td>\n",
       "      <td>Watch Your Man</td>\n",
       "      <td>alternative</td>\n",
       "    </tr>\n",
       "  </tbody>\n",
       "</table>\n",
       "</div>"
      ],
      "text/plain": [
       "   Unnamed: 0                track_id                    artists  \\\n",
       "0           2  1iJBSr7s7jYXzM8EGcbK5b     Ingrid Michaelson;ZAYN   \n",
       "1          33  3H36x7buZdQD4687VmFrwY   Brandi Carlile;Sam Smith   \n",
       "2         242  03VNgdCL9t8aPyvwZecglI  Jason Mraz;Meghan Trainor   \n",
       "3         868  25fcj6d2W1l8DQL11Czdzb   Brandi Carlile;Sam Smith   \n",
       "4        3476  0raOzVFA5sMpRDgMZ0ZTJc      Rico Nasty;Marshmello   \n",
       "\n",
       "                       album_name                                track_name  \\\n",
       "0                  To Begin Again                            To Begin Again   \n",
       "1    Human - Best Adult Pop Tunes                              Party of One   \n",
       "2                           Know.  More Than Friends (feat. Meghan Trainor)   \n",
       "3  Party of One (feat. Sam Smith)            Party of One (feat. Sam Smith)   \n",
       "4             Internet Sensations                            Watch Your Man   \n",
       "\n",
       "   track_genre  \n",
       "0     acoustic  \n",
       "1     acoustic  \n",
       "2     acoustic  \n",
       "3     acoustic  \n",
       "4  alternative  "
      ]
     },
     "execution_count": 2,
     "metadata": {},
     "output_type": "execute_result"
    }
   ],
   "source": [
    "music = pd.read_csv(\"music_dataset.csv\")\n",
    "music.head()"
   ]
  },
  {
   "cell_type": "code",
   "execution_count": 3,
   "id": "76d6f06d-760e-416e-81eb-ac08cc34c7c7",
   "metadata": {},
   "outputs": [],
   "source": [
    "music.dropna(inplace=True)\n",
    "music.drop_duplicates(inplace=True)"
   ]
  },
  {
   "cell_type": "code",
   "execution_count": 4,
   "id": "b818c0f7-6447-443f-8b04-0efb13dad35a",
   "metadata": {},
   "outputs": [
    {
     "data": {
      "text/html": [
       "<div>\n",
       "<style scoped>\n",
       "    .dataframe tbody tr th:only-of-type {\n",
       "        vertical-align: middle;\n",
       "    }\n",
       "\n",
       "    .dataframe tbody tr th {\n",
       "        vertical-align: top;\n",
       "    }\n",
       "\n",
       "    .dataframe thead th {\n",
       "        text-align: right;\n",
       "    }\n",
       "</style>\n",
       "<table border=\"1\" class=\"dataframe\">\n",
       "  <thead>\n",
       "    <tr style=\"text-align: right;\">\n",
       "      <th></th>\n",
       "      <th>Unnamed: 0</th>\n",
       "      <th>track_id</th>\n",
       "      <th>artists</th>\n",
       "      <th>album_name</th>\n",
       "      <th>track_name</th>\n",
       "      <th>track_genre</th>\n",
       "    </tr>\n",
       "  </thead>\n",
       "  <tbody>\n",
       "    <tr>\n",
       "      <th>0</th>\n",
       "      <td>2</td>\n",
       "      <td>1iJBSr7s7jYXzM8EGcbK5b</td>\n",
       "      <td>Ingrid Michaelson;ZAYN</td>\n",
       "      <td>To Begin Again</td>\n",
       "      <td>To Begin Again</td>\n",
       "      <td>acoustic</td>\n",
       "    </tr>\n",
       "    <tr>\n",
       "      <th>1</th>\n",
       "      <td>33</td>\n",
       "      <td>3H36x7buZdQD4687VmFrwY</td>\n",
       "      <td>Brandi Carlile;Sam Smith</td>\n",
       "      <td>Human - Best Adult Pop Tunes</td>\n",
       "      <td>Party of One</td>\n",
       "      <td>acoustic</td>\n",
       "    </tr>\n",
       "    <tr>\n",
       "      <th>2</th>\n",
       "      <td>242</td>\n",
       "      <td>03VNgdCL9t8aPyvwZecglI</td>\n",
       "      <td>Jason Mraz;Meghan Trainor</td>\n",
       "      <td>Know.</td>\n",
       "      <td>More Than Friends (feat. Meghan Trainor)</td>\n",
       "      <td>acoustic</td>\n",
       "    </tr>\n",
       "    <tr>\n",
       "      <th>3</th>\n",
       "      <td>868</td>\n",
       "      <td>25fcj6d2W1l8DQL11Czdzb</td>\n",
       "      <td>Brandi Carlile;Sam Smith</td>\n",
       "      <td>Party of One (feat. Sam Smith)</td>\n",
       "      <td>Party of One (feat. Sam Smith)</td>\n",
       "      <td>acoustic</td>\n",
       "    </tr>\n",
       "    <tr>\n",
       "      <th>4</th>\n",
       "      <td>3476</td>\n",
       "      <td>0raOzVFA5sMpRDgMZ0ZTJc</td>\n",
       "      <td>Rico Nasty;Marshmello</td>\n",
       "      <td>Internet Sensations</td>\n",
       "      <td>Watch Your Man</td>\n",
       "      <td>alternative</td>\n",
       "    </tr>\n",
       "  </tbody>\n",
       "</table>\n",
       "</div>"
      ],
      "text/plain": [
       "   Unnamed: 0                track_id                    artists  \\\n",
       "0           2  1iJBSr7s7jYXzM8EGcbK5b     Ingrid Michaelson;ZAYN   \n",
       "1          33  3H36x7buZdQD4687VmFrwY   Brandi Carlile;Sam Smith   \n",
       "2         242  03VNgdCL9t8aPyvwZecglI  Jason Mraz;Meghan Trainor   \n",
       "3         868  25fcj6d2W1l8DQL11Czdzb   Brandi Carlile;Sam Smith   \n",
       "4        3476  0raOzVFA5sMpRDgMZ0ZTJc      Rico Nasty;Marshmello   \n",
       "\n",
       "                       album_name                                track_name  \\\n",
       "0                  To Begin Again                            To Begin Again   \n",
       "1    Human - Best Adult Pop Tunes                              Party of One   \n",
       "2                           Know.  More Than Friends (feat. Meghan Trainor)   \n",
       "3  Party of One (feat. Sam Smith)            Party of One (feat. Sam Smith)   \n",
       "4             Internet Sensations                            Watch Your Man   \n",
       "\n",
       "   track_genre  \n",
       "0     acoustic  \n",
       "1     acoustic  \n",
       "2     acoustic  \n",
       "3     acoustic  \n",
       "4  alternative  "
      ]
     },
     "execution_count": 4,
     "metadata": {},
     "output_type": "execute_result"
    }
   ],
   "source": [
    "music.head()"
   ]
  },
  {
   "cell_type": "code",
   "execution_count": 5,
   "id": "637ad519-8016-44b1-ad9d-6962a2fd8ae2",
   "metadata": {},
   "outputs": [],
   "source": [
    "music['artists'] = music['artists'].str.replace(' ', '').str.replace(',', ' ')\n",
    "music['track_name'] = music['track_name'].str.lower()"
   ]
  },
  {
   "cell_type": "code",
   "execution_count": 7,
   "id": "b92195e0-5aee-43c1-82db-03a7b38c92b1",
   "metadata": {},
   "outputs": [
    {
     "data": {
      "text/plain": [
       "(2459, 6)"
      ]
     },
     "execution_count": 7,
     "metadata": {},
     "output_type": "execute_result"
    }
   ],
   "source": [
    "music.shape"
   ]
  },
  {
   "cell_type": "code",
   "execution_count": 8,
   "id": "406df2b2-3e04-405b-b948-5ac867b9da28",
   "metadata": {},
   "outputs": [],
   "source": [
    "music['tags'] = (music['artists'] + ' ' +\n",
    "                 music['track_genre'] + ' ' +\n",
    "                 music['album_name'] + ' ' +\n",
    "                 music['track_name']).str.lower()"
   ]
  },
  {
   "cell_type": "code",
   "execution_count": 9,
   "id": "ed5ad57b-4979-4d5c-ba51-a17845758ee0",
   "metadata": {},
   "outputs": [
    {
     "data": {
      "text/html": [
       "<div>\n",
       "<style scoped>\n",
       "    .dataframe tbody tr th:only-of-type {\n",
       "        vertical-align: middle;\n",
       "    }\n",
       "\n",
       "    .dataframe tbody tr th {\n",
       "        vertical-align: top;\n",
       "    }\n",
       "\n",
       "    .dataframe thead th {\n",
       "        text-align: right;\n",
       "    }\n",
       "</style>\n",
       "<table border=\"1\" class=\"dataframe\">\n",
       "  <thead>\n",
       "    <tr style=\"text-align: right;\">\n",
       "      <th></th>\n",
       "      <th>title</th>\n",
       "      <th>tags</th>\n",
       "    </tr>\n",
       "  </thead>\n",
       "  <tbody>\n",
       "    <tr>\n",
       "      <th>0</th>\n",
       "      <td>to begin again</td>\n",
       "      <td>ingridmichaelson;zayn acoustic to begin again ...</td>\n",
       "    </tr>\n",
       "    <tr>\n",
       "      <th>1</th>\n",
       "      <td>party of one</td>\n",
       "      <td>brandicarlile;samsmith acoustic human - best a...</td>\n",
       "    </tr>\n",
       "    <tr>\n",
       "      <th>2</th>\n",
       "      <td>more than friends (feat. meghan trainor)</td>\n",
       "      <td>jasonmraz;meghantrainor acoustic know. more th...</td>\n",
       "    </tr>\n",
       "    <tr>\n",
       "      <th>3</th>\n",
       "      <td>party of one (feat. sam smith)</td>\n",
       "      <td>brandicarlile;samsmith acoustic party of one (...</td>\n",
       "    </tr>\n",
       "    <tr>\n",
       "      <th>4</th>\n",
       "      <td>watch your man</td>\n",
       "      <td>riconasty;marshmello alternative internet sens...</td>\n",
       "    </tr>\n",
       "  </tbody>\n",
       "</table>\n",
       "</div>"
      ],
      "text/plain": [
       "                                      title  \\\n",
       "0                            to begin again   \n",
       "1                              party of one   \n",
       "2  more than friends (feat. meghan trainor)   \n",
       "3            party of one (feat. sam smith)   \n",
       "4                            watch your man   \n",
       "\n",
       "                                                tags  \n",
       "0  ingridmichaelson;zayn acoustic to begin again ...  \n",
       "1  brandicarlile;samsmith acoustic human - best a...  \n",
       "2  jasonmraz;meghantrainor acoustic know. more th...  \n",
       "3  brandicarlile;samsmith acoustic party of one (...  \n",
       "4  riconasty;marshmello alternative internet sens...  "
      ]
     },
     "execution_count": 9,
     "metadata": {},
     "output_type": "execute_result"
    }
   ],
   "source": [
    "new_data = music[['track_name', 'tags']].rename(columns={'track_name': 'title'})\n",
    "new_data.head()"
   ]
  },
  {
   "cell_type": "code",
   "execution_count": 10,
   "id": "32110dd4-7535-486c-affa-2aca8accc02b",
   "metadata": {},
   "outputs": [],
   "source": [
    "from sklearn.feature_extraction.text import CountVectorizer"
   ]
  },
  {
   "cell_type": "code",
   "execution_count": 11,
   "id": "ae5a0ed5-d427-40bc-8639-02c5b21eee05",
   "metadata": {},
   "outputs": [],
   "source": [
    "cv = CountVectorizer(max_features=1000, stop_words='english')\n",
    "vector = cv.fit_transform(new_data['tags'].values.astype('U')).toarray()"
   ]
  },
  {
   "cell_type": "code",
   "execution_count": 12,
   "id": "758467bd-436d-4312-b3ef-669349452dfa",
   "metadata": {},
   "outputs": [
    {
     "data": {
      "text/plain": [
       "(2459, 2459)"
      ]
     },
     "execution_count": 12,
     "metadata": {},
     "output_type": "execute_result"
    }
   ],
   "source": [
    "from sklearn.metrics.pairwise import cosine_similarity\n",
    "similarity = cosine_similarity(vector)\n",
    "similarity.shape"
   ]
  },
  {
   "cell_type": "code",
   "execution_count": 13,
   "id": "570cc71d-06d7-4ca5-a79e-1887b5faced4",
   "metadata": {},
   "outputs": [],
   "source": [
    "def recommend(song_title):\n",
    "    # Get the index of the song\n",
    "    index = new_data[new_data['title'] == song_title].index[0]\n",
    "\n",
    "    # Calculate distances and sort by similarity\n",
    "    distances = sorted(list(enumerate(similarity[index])), reverse=True, key=lambda x: x[1])\n",
    "\n",
    "    # Display top 5 recommendations\n",
    "    print(f\"Songs similar to '{song_title}':\")\n",
    "    for i in distances[1:6]:  # Skip the first as it's the song itself\n",
    "        print(new_data.iloc[i[0]].title)"
   ]
  },
  {
   "cell_type": "code",
   "execution_count": 14,
   "id": "de9484cc-4a6b-4edf-9f33-e61e389aa79d",
   "metadata": {},
   "outputs": [],
   "source": [
    "import pickle\n",
    "\n",
    "# Save the processed data and similarity matrix\n",
    "pickle.dump(new_data, open('music_list.pkl', 'wb'))\n",
    "pickle.dump(similarity, open('similarity.pkl', 'wb'))\n",
    "\n",
    "# Load the saved data\n",
    "music_list = pickle.load(open('music_list.pkl', 'rb'))\n",
    "similarity_matrix = pickle.load(open('similarity.pkl', 'rb'))"
   ]
  },
  {
   "cell_type": "code",
   "execution_count": 16,
   "id": "2e3169eb-ba80-470f-8c63-094895d02663",
   "metadata": {},
   "outputs": [
    {
     "name": "stdout",
     "output_type": "stream",
     "text": [
      "Songs similar to 'attention':\n",
      "cheating on you\n",
      "how long\n",
      "that's hilarious\n",
      "no more drama\n",
      "marks on my neck\n"
     ]
    }
   ],
   "source": [
    "recommend(\"attention\")"
   ]
  },
  {
   "cell_type": "code",
   "execution_count": null,
   "id": "c984df47-8de3-4478-836e-991fb5285421",
   "metadata": {},
   "outputs": [],
   "source": []
  }
 ],
 "metadata": {
  "kernelspec": {
   "display_name": "Python 3 (ipykernel)",
   "language": "python",
   "name": "python3"
  },
  "language_info": {
   "codemirror_mode": {
    "name": "ipython",
    "version": 3
   },
   "file_extension": ".py",
   "mimetype": "text/x-python",
   "name": "python",
   "nbconvert_exporter": "python",
   "pygments_lexer": "ipython3",
   "version": "3.13.1"
  }
 },
 "nbformat": 4,
 "nbformat_minor": 5
}
